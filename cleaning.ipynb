{
 "cells": [
  {
   "cell_type": "code",
   "execution_count": 1,
   "metadata": {},
   "outputs": [],
   "source": [
    "import pandas as pd\n",
    "import numpy as np"
   ]
  },
  {
   "cell_type": "code",
   "execution_count": 2,
   "metadata": {},
   "outputs": [
    {
     "name": "stderr",
     "output_type": "stream",
     "text": [
      "C:\\Users\\annik\\AppData\\Local\\Temp\\ipykernel_4212\\2865389816.py:1: DtypeWarning: Columns (69,76,77,84) have mixed types. Specify dtype option on import or set low_memory=False.\n",
      "  df = pd.read_csv(\"airline_2m.csv\", encoding=\"ISO-8859-1\")\n"
     ]
    }
   ],
   "source": [
    "df = pd.read_csv(\"airline_2m.csv\", encoding=\"ISO-8859-1\")"
   ]
  },
  {
   "cell_type": "code",
   "execution_count": 3,
   "metadata": {},
   "outputs": [
    {
     "data": {
      "text/plain": [
       "Index(['Year', 'Quarter', 'Month', 'DayofMonth', 'DayOfWeek', 'FlightDate',\n",
       "       'Reporting_Airline', 'DOT_ID_Reporting_Airline',\n",
       "       'IATA_CODE_Reporting_Airline', 'Tail_Number',\n",
       "       ...\n",
       "       'Div4WheelsOff', 'Div4TailNum', 'Div5Airport', 'Div5AirportID',\n",
       "       'Div5AirportSeqID', 'Div5WheelsOn', 'Div5TotalGTime',\n",
       "       'Div5LongestGTime', 'Div5WheelsOff', 'Div5TailNum'],\n",
       "      dtype='object', length=109)"
      ]
     },
     "execution_count": 3,
     "metadata": {},
     "output_type": "execute_result"
    }
   ],
   "source": [
    "df.columns"
   ]
  },
  {
   "cell_type": "markdown",
   "metadata": {},
   "source": [
    "## Cleaning and preprocessing (based on exploration data)"
   ]
  },
  {
   "cell_type": "markdown",
   "metadata": {},
   "source": [
    "droping columns with all missing values"
   ]
  },
  {
   "cell_type": "code",
   "execution_count": 4,
   "metadata": {},
   "outputs": [],
   "source": [
    "df = df.dropna(how='all', axis=1)"
   ]
  },
  {
   "cell_type": "markdown",
   "metadata": {},
   "source": [
    "filling missing delay values with 0"
   ]
  },
  {
   "cell_type": "code",
   "execution_count": 5,
   "metadata": {},
   "outputs": [],
   "source": [
    "for col in ['CarrierDelay', 'WeatherDelay', 'NASDelay', 'SecurityDelay', 'LateAircraftDelay']:\n",
    "    if col in df.columns:\n",
    "        df[col] = df[col].fillna(0)"
   ]
  },
  {
   "cell_type": "markdown",
   "metadata": {},
   "source": [
    "fillinf missing categorical values with 'unknown'"
   ]
  },
  {
   "cell_type": "code",
   "execution_count": 6,
   "metadata": {},
   "outputs": [],
   "source": [
    "for col in ['CancellationCode']:\n",
    "    if col in df.columns:\n",
    "        df[col] = df[col].fillna(\"unknown\")"
   ]
  },
  {
   "cell_type": "markdown",
   "metadata": {},
   "source": [
    "coverting FlightDate to datetime"
   ]
  },
  {
   "cell_type": "code",
   "execution_count": 7,
   "metadata": {},
   "outputs": [],
   "source": [
    "df['FlightDate'] = pd.to_datetime(df['FlightDate'])"
   ]
  },
  {
   "cell_type": "markdown",
   "metadata": {},
   "source": [
    "converting categorical columns to category type"
   ]
  },
  {
   "cell_type": "code",
   "execution_count": 8,
   "metadata": {},
   "outputs": [],
   "source": [
    "categorical_cols = ['Reporting_Airline', 'IATA_CODE_Reporting_Airline', 'Origin', 'Dest', 'CancellationCode']\n",
    "for col in categorical_cols:\n",
    "    if col in df.columns:\n",
    "        df[col] = df[col].astype('category')"
   ]
  },
  {
   "cell_type": "markdown",
   "metadata": {},
   "source": [
    "standardizing column values (converting OriginState and DestState to uppercase values for consistency)"
   ]
  },
  {
   "cell_type": "code",
   "execution_count": 9,
   "metadata": {},
   "outputs": [],
   "source": [
    "df['OriginState'] = df['OriginState'].str.upper()\n",
    "df['DestState'] = df['DestState'].str.upper()"
   ]
  },
  {
   "cell_type": "markdown",
   "metadata": {},
   "source": [
    "converting time columns from hhmm to \"minutes since midnight\""
   ]
  },
  {
   "cell_type": "code",
   "execution_count": 10,
   "metadata": {},
   "outputs": [],
   "source": [
    "def convert_to_minutes(time):\n",
    "    if pd.isna(time) or time < 0:\n",
    "        return np.nan\n",
    "    time_str = str(int(time)).zfill(4)\n",
    "    return int(time_str[:2]) * 60 + int (time_str[2:])"
   ]
  },
  {
   "cell_type": "code",
   "execution_count": 11,
   "metadata": {},
   "outputs": [],
   "source": [
    "for col in ['CRSDepTime', 'DepTime', 'WheelsOff', 'WheelsOn', 'CRSArrTime', 'ArrTime']:\n",
    "    if col in df.columns:\n",
    "        df[col] = df[col].apply(convert_to_minutes)"
   ]
  },
  {
   "cell_type": "markdown",
   "metadata": {},
   "source": [
    "column check after cleaning"
   ]
  },
  {
   "cell_type": "code",
   "execution_count": 12,
   "metadata": {},
   "outputs": [
    {
     "data": {
      "text/plain": [
       "Index(['Year', 'Quarter', 'Month', 'DayofMonth', 'DayOfWeek', 'FlightDate',\n",
       "       'Reporting_Airline', 'DOT_ID_Reporting_Airline',\n",
       "       'IATA_CODE_Reporting_Airline', 'Tail_Number',\n",
       "       'Flight_Number_Reporting_Airline', 'OriginAirportID',\n",
       "       'OriginAirportSeqID', 'OriginCityMarketID', 'Origin', 'OriginCityName',\n",
       "       'OriginState', 'OriginStateFips', 'OriginStateName', 'OriginWac',\n",
       "       'DestAirportID', 'DestAirportSeqID', 'DestCityMarketID', 'Dest',\n",
       "       'DestCityName', 'DestState', 'DestStateFips', 'DestStateName',\n",
       "       'DestWac', 'CRSDepTime', 'DepTime', 'DepDelay', 'DepDelayMinutes',\n",
       "       'DepDel15', 'DepartureDelayGroups', 'DepTimeBlk', 'TaxiOut',\n",
       "       'WheelsOff', 'WheelsOn', 'TaxiIn', 'CRSArrTime', 'ArrTime', 'ArrDelay',\n",
       "       'ArrDelayMinutes', 'ArrDel15', 'ArrivalDelayGroups', 'ArrTimeBlk',\n",
       "       'Cancelled', 'CancellationCode', 'Diverted', 'CRSElapsedTime',\n",
       "       'ActualElapsedTime', 'AirTime', 'Flights', 'Distance', 'DistanceGroup',\n",
       "       'CarrierDelay', 'WeatherDelay', 'NASDelay', 'SecurityDelay',\n",
       "       'LateAircraftDelay', 'FirstDepTime', 'TotalAddGTime', 'LongestAddGTime',\n",
       "       'DivAirportLandings', 'DivReachedDest', 'DivActualElapsedTime',\n",
       "       'DivArrDelay', 'DivDistance', 'Div1Airport', 'Div1AirportID',\n",
       "       'Div1AirportSeqID', 'Div1WheelsOn', 'Div1TotalGTime',\n",
       "       'Div1LongestGTime', 'Div1WheelsOff', 'Div1TailNum', 'Div2Airport',\n",
       "       'Div2AirportID', 'Div2AirportSeqID', 'Div2WheelsOn', 'Div2TotalGTime',\n",
       "       'Div2LongestGTime', 'Div2WheelsOff', 'Div2TailNum'],\n",
       "      dtype='object')"
      ]
     },
     "execution_count": 12,
     "metadata": {},
     "output_type": "execute_result"
    }
   ],
   "source": [
    "df.columns"
   ]
  },
  {
   "cell_type": "code",
   "execution_count": 13,
   "metadata": {},
   "outputs": [
    {
     "data": {
      "text/html": [
       "<div>\n",
       "<style scoped>\n",
       "    .dataframe tbody tr th:only-of-type {\n",
       "        vertical-align: middle;\n",
       "    }\n",
       "\n",
       "    .dataframe tbody tr th {\n",
       "        vertical-align: top;\n",
       "    }\n",
       "\n",
       "    .dataframe thead th {\n",
       "        text-align: right;\n",
       "    }\n",
       "</style>\n",
       "<table border=\"1\" class=\"dataframe\">\n",
       "  <thead>\n",
       "    <tr style=\"text-align: right;\">\n",
       "      <th></th>\n",
       "      <th>Year</th>\n",
       "      <th>Quarter</th>\n",
       "      <th>Month</th>\n",
       "      <th>DayofMonth</th>\n",
       "      <th>DayOfWeek</th>\n",
       "      <th>FlightDate</th>\n",
       "      <th>Reporting_Airline</th>\n",
       "      <th>DOT_ID_Reporting_Airline</th>\n",
       "      <th>IATA_CODE_Reporting_Airline</th>\n",
       "      <th>Tail_Number</th>\n",
       "      <th>...</th>\n",
       "      <th>Div1WheelsOff</th>\n",
       "      <th>Div1TailNum</th>\n",
       "      <th>Div2Airport</th>\n",
       "      <th>Div2AirportID</th>\n",
       "      <th>Div2AirportSeqID</th>\n",
       "      <th>Div2WheelsOn</th>\n",
       "      <th>Div2TotalGTime</th>\n",
       "      <th>Div2LongestGTime</th>\n",
       "      <th>Div2WheelsOff</th>\n",
       "      <th>Div2TailNum</th>\n",
       "    </tr>\n",
       "  </thead>\n",
       "  <tbody>\n",
       "    <tr>\n",
       "      <th>0</th>\n",
       "      <td>1998</td>\n",
       "      <td>1</td>\n",
       "      <td>1</td>\n",
       "      <td>2</td>\n",
       "      <td>5</td>\n",
       "      <td>1998-01-02</td>\n",
       "      <td>NW</td>\n",
       "      <td>19386</td>\n",
       "      <td>NW</td>\n",
       "      <td>N297US</td>\n",
       "      <td>...</td>\n",
       "      <td>NaN</td>\n",
       "      <td>NaN</td>\n",
       "      <td>NaN</td>\n",
       "      <td>NaN</td>\n",
       "      <td>NaN</td>\n",
       "      <td>NaN</td>\n",
       "      <td>NaN</td>\n",
       "      <td>NaN</td>\n",
       "      <td>NaN</td>\n",
       "      <td>NaN</td>\n",
       "    </tr>\n",
       "    <tr>\n",
       "      <th>1</th>\n",
       "      <td>2009</td>\n",
       "      <td>2</td>\n",
       "      <td>5</td>\n",
       "      <td>28</td>\n",
       "      <td>4</td>\n",
       "      <td>2009-05-28</td>\n",
       "      <td>FL</td>\n",
       "      <td>20437</td>\n",
       "      <td>FL</td>\n",
       "      <td>N946AT</td>\n",
       "      <td>...</td>\n",
       "      <td>NaN</td>\n",
       "      <td>NaN</td>\n",
       "      <td>NaN</td>\n",
       "      <td>NaN</td>\n",
       "      <td>NaN</td>\n",
       "      <td>NaN</td>\n",
       "      <td>NaN</td>\n",
       "      <td>NaN</td>\n",
       "      <td>NaN</td>\n",
       "      <td>NaN</td>\n",
       "    </tr>\n",
       "    <tr>\n",
       "      <th>2</th>\n",
       "      <td>2013</td>\n",
       "      <td>2</td>\n",
       "      <td>6</td>\n",
       "      <td>29</td>\n",
       "      <td>6</td>\n",
       "      <td>2013-06-29</td>\n",
       "      <td>MQ</td>\n",
       "      <td>20398</td>\n",
       "      <td>MQ</td>\n",
       "      <td>N665MQ</td>\n",
       "      <td>...</td>\n",
       "      <td>NaN</td>\n",
       "      <td>NaN</td>\n",
       "      <td>NaN</td>\n",
       "      <td>NaN</td>\n",
       "      <td>NaN</td>\n",
       "      <td>NaN</td>\n",
       "      <td>NaN</td>\n",
       "      <td>NaN</td>\n",
       "      <td>NaN</td>\n",
       "      <td>NaN</td>\n",
       "    </tr>\n",
       "    <tr>\n",
       "      <th>3</th>\n",
       "      <td>2010</td>\n",
       "      <td>3</td>\n",
       "      <td>8</td>\n",
       "      <td>31</td>\n",
       "      <td>2</td>\n",
       "      <td>2010-08-31</td>\n",
       "      <td>DL</td>\n",
       "      <td>19790</td>\n",
       "      <td>DL</td>\n",
       "      <td>N6705Y</td>\n",
       "      <td>...</td>\n",
       "      <td>NaN</td>\n",
       "      <td>NaN</td>\n",
       "      <td>NaN</td>\n",
       "      <td>NaN</td>\n",
       "      <td>NaN</td>\n",
       "      <td>NaN</td>\n",
       "      <td>NaN</td>\n",
       "      <td>NaN</td>\n",
       "      <td>NaN</td>\n",
       "      <td>NaN</td>\n",
       "    </tr>\n",
       "    <tr>\n",
       "      <th>4</th>\n",
       "      <td>2006</td>\n",
       "      <td>1</td>\n",
       "      <td>1</td>\n",
       "      <td>15</td>\n",
       "      <td>7</td>\n",
       "      <td>2006-01-15</td>\n",
       "      <td>US</td>\n",
       "      <td>20355</td>\n",
       "      <td>US</td>\n",
       "      <td>N504AU</td>\n",
       "      <td>...</td>\n",
       "      <td>NaN</td>\n",
       "      <td>NaN</td>\n",
       "      <td>NaN</td>\n",
       "      <td>NaN</td>\n",
       "      <td>NaN</td>\n",
       "      <td>NaN</td>\n",
       "      <td>NaN</td>\n",
       "      <td>NaN</td>\n",
       "      <td>NaN</td>\n",
       "      <td>NaN</td>\n",
       "    </tr>\n",
       "    <tr>\n",
       "      <th>...</th>\n",
       "      <td>...</td>\n",
       "      <td>...</td>\n",
       "      <td>...</td>\n",
       "      <td>...</td>\n",
       "      <td>...</td>\n",
       "      <td>...</td>\n",
       "      <td>...</td>\n",
       "      <td>...</td>\n",
       "      <td>...</td>\n",
       "      <td>...</td>\n",
       "      <td>...</td>\n",
       "      <td>...</td>\n",
       "      <td>...</td>\n",
       "      <td>...</td>\n",
       "      <td>...</td>\n",
       "      <td>...</td>\n",
       "      <td>...</td>\n",
       "      <td>...</td>\n",
       "      <td>...</td>\n",
       "      <td>...</td>\n",
       "      <td>...</td>\n",
       "    </tr>\n",
       "    <tr>\n",
       "      <th>1999995</th>\n",
       "      <td>2008</td>\n",
       "      <td>1</td>\n",
       "      <td>3</td>\n",
       "      <td>23</td>\n",
       "      <td>7</td>\n",
       "      <td>2008-03-23</td>\n",
       "      <td>WN</td>\n",
       "      <td>19393</td>\n",
       "      <td>WN</td>\n",
       "      <td>N712SW</td>\n",
       "      <td>...</td>\n",
       "      <td>NaN</td>\n",
       "      <td>NaN</td>\n",
       "      <td>NaN</td>\n",
       "      <td>NaN</td>\n",
       "      <td>NaN</td>\n",
       "      <td>NaN</td>\n",
       "      <td>NaN</td>\n",
       "      <td>NaN</td>\n",
       "      <td>NaN</td>\n",
       "      <td>NaN</td>\n",
       "    </tr>\n",
       "    <tr>\n",
       "      <th>1999996</th>\n",
       "      <td>1999</td>\n",
       "      <td>1</td>\n",
       "      <td>1</td>\n",
       "      <td>5</td>\n",
       "      <td>2</td>\n",
       "      <td>1999-01-05</td>\n",
       "      <td>CO</td>\n",
       "      <td>19704</td>\n",
       "      <td>CO</td>\n",
       "      <td>N14308</td>\n",
       "      <td>...</td>\n",
       "      <td>NaN</td>\n",
       "      <td>NaN</td>\n",
       "      <td>NaN</td>\n",
       "      <td>NaN</td>\n",
       "      <td>NaN</td>\n",
       "      <td>NaN</td>\n",
       "      <td>NaN</td>\n",
       "      <td>NaN</td>\n",
       "      <td>NaN</td>\n",
       "      <td>NaN</td>\n",
       "    </tr>\n",
       "    <tr>\n",
       "      <th>1999997</th>\n",
       "      <td>2003</td>\n",
       "      <td>4</td>\n",
       "      <td>11</td>\n",
       "      <td>14</td>\n",
       "      <td>5</td>\n",
       "      <td>2003-11-14</td>\n",
       "      <td>US</td>\n",
       "      <td>20355</td>\n",
       "      <td>US</td>\n",
       "      <td>N528AU</td>\n",
       "      <td>...</td>\n",
       "      <td>NaN</td>\n",
       "      <td>NaN</td>\n",
       "      <td>NaN</td>\n",
       "      <td>NaN</td>\n",
       "      <td>NaN</td>\n",
       "      <td>NaN</td>\n",
       "      <td>NaN</td>\n",
       "      <td>NaN</td>\n",
       "      <td>NaN</td>\n",
       "      <td>NaN</td>\n",
       "    </tr>\n",
       "    <tr>\n",
       "      <th>1999998</th>\n",
       "      <td>2012</td>\n",
       "      <td>2</td>\n",
       "      <td>5</td>\n",
       "      <td>15</td>\n",
       "      <td>2</td>\n",
       "      <td>2012-05-15</td>\n",
       "      <td>WN</td>\n",
       "      <td>19393</td>\n",
       "      <td>WN</td>\n",
       "      <td>N281WN</td>\n",
       "      <td>...</td>\n",
       "      <td>NaN</td>\n",
       "      <td>NaN</td>\n",
       "      <td>NaN</td>\n",
       "      <td>NaN</td>\n",
       "      <td>NaN</td>\n",
       "      <td>NaN</td>\n",
       "      <td>NaN</td>\n",
       "      <td>NaN</td>\n",
       "      <td>NaN</td>\n",
       "      <td>NaN</td>\n",
       "    </tr>\n",
       "    <tr>\n",
       "      <th>1999999</th>\n",
       "      <td>2003</td>\n",
       "      <td>2</td>\n",
       "      <td>4</td>\n",
       "      <td>29</td>\n",
       "      <td>2</td>\n",
       "      <td>2003-04-29</td>\n",
       "      <td>UA</td>\n",
       "      <td>19977</td>\n",
       "      <td>UA</td>\n",
       "      <td>N364UA</td>\n",
       "      <td>...</td>\n",
       "      <td>NaN</td>\n",
       "      <td>NaN</td>\n",
       "      <td>NaN</td>\n",
       "      <td>NaN</td>\n",
       "      <td>NaN</td>\n",
       "      <td>NaN</td>\n",
       "      <td>NaN</td>\n",
       "      <td>NaN</td>\n",
       "      <td>NaN</td>\n",
       "      <td>NaN</td>\n",
       "    </tr>\n",
       "  </tbody>\n",
       "</table>\n",
       "<p>2000000 rows × 85 columns</p>\n",
       "</div>"
      ],
      "text/plain": [
       "         Year  Quarter  Month  DayofMonth  DayOfWeek FlightDate  \\\n",
       "0        1998        1      1           2          5 1998-01-02   \n",
       "1        2009        2      5          28          4 2009-05-28   \n",
       "2        2013        2      6          29          6 2013-06-29   \n",
       "3        2010        3      8          31          2 2010-08-31   \n",
       "4        2006        1      1          15          7 2006-01-15   \n",
       "...       ...      ...    ...         ...        ...        ...   \n",
       "1999995  2008        1      3          23          7 2008-03-23   \n",
       "1999996  1999        1      1           5          2 1999-01-05   \n",
       "1999997  2003        4     11          14          5 2003-11-14   \n",
       "1999998  2012        2      5          15          2 2012-05-15   \n",
       "1999999  2003        2      4          29          2 2003-04-29   \n",
       "\n",
       "        Reporting_Airline  DOT_ID_Reporting_Airline  \\\n",
       "0                      NW                     19386   \n",
       "1                      FL                     20437   \n",
       "2                      MQ                     20398   \n",
       "3                      DL                     19790   \n",
       "4                      US                     20355   \n",
       "...                   ...                       ...   \n",
       "1999995                WN                     19393   \n",
       "1999996                CO                     19704   \n",
       "1999997                US                     20355   \n",
       "1999998                WN                     19393   \n",
       "1999999                UA                     19977   \n",
       "\n",
       "        IATA_CODE_Reporting_Airline Tail_Number  ...  Div1WheelsOff  \\\n",
       "0                                NW      N297US  ...            NaN   \n",
       "1                                FL      N946AT  ...            NaN   \n",
       "2                                MQ      N665MQ  ...            NaN   \n",
       "3                                DL      N6705Y  ...            NaN   \n",
       "4                                US      N504AU  ...            NaN   \n",
       "...                             ...         ...  ...            ...   \n",
       "1999995                          WN      N712SW  ...            NaN   \n",
       "1999996                          CO      N14308  ...            NaN   \n",
       "1999997                          US      N528AU  ...            NaN   \n",
       "1999998                          WN      N281WN  ...            NaN   \n",
       "1999999                          UA      N364UA  ...            NaN   \n",
       "\n",
       "         Div1TailNum  Div2Airport  Div2AirportID Div2AirportSeqID  \\\n",
       "0                NaN          NaN            NaN              NaN   \n",
       "1                NaN          NaN            NaN              NaN   \n",
       "2                NaN          NaN            NaN              NaN   \n",
       "3                NaN          NaN            NaN              NaN   \n",
       "4                NaN          NaN            NaN              NaN   \n",
       "...              ...          ...            ...              ...   \n",
       "1999995          NaN          NaN            NaN              NaN   \n",
       "1999996          NaN          NaN            NaN              NaN   \n",
       "1999997          NaN          NaN            NaN              NaN   \n",
       "1999998          NaN          NaN            NaN              NaN   \n",
       "1999999          NaN          NaN            NaN              NaN   \n",
       "\n",
       "        Div2WheelsOn Div2TotalGTime  Div2LongestGTime Div2WheelsOff  \\\n",
       "0                NaN            NaN               NaN           NaN   \n",
       "1                NaN            NaN               NaN           NaN   \n",
       "2                NaN            NaN               NaN           NaN   \n",
       "3                NaN            NaN               NaN           NaN   \n",
       "4                NaN            NaN               NaN           NaN   \n",
       "...              ...            ...               ...           ...   \n",
       "1999995          NaN            NaN               NaN           NaN   \n",
       "1999996          NaN            NaN               NaN           NaN   \n",
       "1999997          NaN            NaN               NaN           NaN   \n",
       "1999998          NaN            NaN               NaN           NaN   \n",
       "1999999          NaN            NaN               NaN           NaN   \n",
       "\n",
       "         Div2TailNum  \n",
       "0                NaN  \n",
       "1                NaN  \n",
       "2                NaN  \n",
       "3                NaN  \n",
       "4                NaN  \n",
       "...              ...  \n",
       "1999995          NaN  \n",
       "1999996          NaN  \n",
       "1999997          NaN  \n",
       "1999998          NaN  \n",
       "1999999          NaN  \n",
       "\n",
       "[2000000 rows x 85 columns]"
      ]
     },
     "execution_count": 13,
     "metadata": {},
     "output_type": "execute_result"
    }
   ],
   "source": [
    "df"
   ]
  },
  {
   "cell_type": "markdown",
   "metadata": {},
   "source": [
    "saving cleaned data"
   ]
  },
  {
   "cell_type": "code",
   "execution_count": 14,
   "metadata": {},
   "outputs": [],
   "source": [
    "df.to_csv(\"cleaned_flight_data.csv\", index=False)"
   ]
  }
 ],
 "metadata": {
  "kernelspec": {
   "display_name": "Python 3",
   "language": "python",
   "name": "python3"
  },
  "language_info": {
   "codemirror_mode": {
    "name": "ipython",
    "version": 3
   },
   "file_extension": ".py",
   "mimetype": "text/x-python",
   "name": "python",
   "nbconvert_exporter": "python",
   "pygments_lexer": "ipython3",
   "version": "3.13.0"
  }
 },
 "nbformat": 4,
 "nbformat_minor": 2
}
